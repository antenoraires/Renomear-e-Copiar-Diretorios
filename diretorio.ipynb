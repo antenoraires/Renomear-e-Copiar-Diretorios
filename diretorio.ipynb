{
 "cells": [
  {
   "cell_type": "markdown",
   "metadata": {},
   "source": [
    "# Importando bibliotecas"
   ]
  },
  {
   "cell_type": "code",
   "execution_count": null,
   "metadata": {},
   "outputs": [],
   "source": [
    "# Biblioteca Para gerar copias de arquivos\n",
    "import shutil\n",
    "# Biblioteca para trabalhar com diretorios \n",
    "import os\n",
    "# Bibliote para trabalhar com diretorios e arquivos \n",
    "from pathlib import PurePath,Path\n",
    "# Importando Arquivos de google Drive\n",
    "from google.colab import drive\n",
    "drive.mount('/content/drive')\n",
    "# Bibliotecas para checar duplicatas  \n",
    "from filecmp import cmp as compare\n",
    "from itertools import combinations\n",
    "from networkx import Graph, connected_components"
   ]
  },
  {
   "cell_type": "markdown",
   "metadata": {},
   "source": [
    "# Copiando arquivos "
   ]
  },
  {
   "cell_type": "code",
   "execution_count": null,
   "metadata": {},
   "outputs": [],
   "source": [
    "\n",
    "# Path dos diretorios\n",
    "src = 'Path inicial'\n",
    "trg = 'Path de destino'\n",
    "# Printando os aquivos dentro dos diretorios\n",
    "files = os.listdir(src)\n",
    "files_dest = os.listdir(trg)\n",
    "\n",
    "# Funçao de para copiar os arquivos\n",
    "def copiar():\n",
    "# Codigo  que gera a copia dos arquivos em outro diretorio\n",
    "  for fname in files:\n",
    "      shutil.copy2(os.path.join(src,fname), trg)\n",
    "copiar()\n"
   ]
  },
  {
   "cell_type": "markdown",
   "metadata": {},
   "source": [
    "# Renomeando arquivos"
   ]
  },
  {
   "cell_type": "code",
   "execution_count": null,
   "metadata": {},
   "outputs": [],
   "source": [
    "\n",
    "# Funçao para renomar\n",
    "def Renomear():\n",
    "# Renomendo os arquivos\n",
    "  os.renames('Path do arquivo/nome.csv',\n",
    "                    'Path do novo arquivo/novo_nome.csv')\n",
    "      \n",
    "#Deletando os arquivos caso eles já existam    \n",
    "for arquivo in trg:\n",
    "    if \"2022\" in arquivo:\n",
    "      os.remove(arquivo)\n",
    "Renomear()\n"
   ]
  },
  {
   "cell_type": "markdown",
   "metadata": {},
   "source": [
    "# Checando duplicatas"
   ]
  },
  {
   "cell_type": "code",
   "execution_count": null,
   "metadata": {},
   "outputs": [],
   "source": [
    "# Checando duplicatas\n",
    "def duplicados( path, extension ):\n",
    "    # Recupera lista de arquivos do diretorio\n",
    "    # filtrados pela extensão\n",
    "    files = [str(p) for p in Path(path).resolve().glob(extension)]\n",
    "\n",
    "    # Recupera lista de pares duplicados\n",
    "    dups = [(f1, f2) for f1, f2 in combinations(files,2) if compare(f1, f2)]\n",
    "\n",
    "    # Constroi um grafo a partir dos\n",
    "    # pares de arquivos duplicados\n",
    "    grafo = Graph()\n",
    "    grafo.add_edges_from(dups)\n",
    "\n",
    "    # Retorna lista dos componentes\n",
    "    # conectados do grafo (arquivos identicos)\n",
    "    return list(connected_components(grafo))\n",
    "\n",
    "print(duplicados(path='Caminho do arquivo', extension='*.extensão dele'))"
   ]
  }
 ],
 "metadata": {
  "kernelspec": {
   "display_name": "Python 3",
   "language": "python",
   "name": "python3"
  },
  "language_info": {
   "codemirror_mode": {
    "name": "ipython",
    "version": 3
   },
   "file_extension": ".py",
   "mimetype": "text/x-python",
   "name": "python",
   "nbconvert_exporter": "python",
   "pygments_lexer": "ipython3",
   "version": "3.7.1"
  }
 },
 "nbformat": 4,
 "nbformat_minor": 2
}
